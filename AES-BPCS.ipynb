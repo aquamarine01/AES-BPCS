{
 "cells": [
  {
   "cell_type": "markdown",
   "id": "7b6ec66a",
   "metadata": {},
   "source": [
    "# library"
   ]
  },
  {
   "cell_type": "code",
   "execution_count": 41,
   "id": "aeb0b7de",
   "metadata": {},
   "outputs": [],
   "source": [
    "from Cryptodome.Cipher import AES  # from pycryptodomex v-3.10.4\n",
    "from Cryptodome.Random import get_random_bytes\n",
    "\n",
    "import hashlib\n",
    "import binascii"
   ]
  },
  {
   "cell_type": "markdown",
   "id": "f3fb2a6a",
   "metadata": {},
   "source": [
    "# fungsi kripto"
   ]
  },
  {
   "cell_type": "code",
   "execution_count": 42,
   "id": "0e76380c",
   "metadata": {},
   "outputs": [],
   "source": [
    "HASH_NAME = \"SHA256\"\n",
    "IV_LENGTH = 16\n",
    "ITERATION_COUNT = 989898\n",
    "KEY_LENGTH = 32"
   ]
  },
  {
   "cell_type": "code",
   "execution_count": 43,
   "id": "4a728107",
   "metadata": {},
   "outputs": [],
   "source": [
    "def pad(message):\n",
    "    padding_length = AES.block_size - len(message) % AES.block_size #panjang padding adalah selisih dari antara ukuran blok (16) dengan panjang pesan modulo blok (< 16. jika sama dengan 16 maka tidak ada padding)\n",
    "    padding = bytes([padding_length]) * padding_length #misalnya nilai padding length adalah 14, maka paddingnya adalah bentuk byte dari 14 sebanyak 14 kali\n",
    "    return message + padding"
   ]
  },
  {
   "cell_type": "code",
   "execution_count": 44,
   "id": "d05a1419",
   "metadata": {},
   "outputs": [],
   "source": [
    "def unpad(message):\n",
    "    padding_length = message[-1] #mengambil byte paling ujung (sebagai contoh byte 14)\n",
    "    return message[:-padding_length] #dan menghapus padding sesuai dengan padding length yang telah diketahui"
   ]
  },
  {
   "cell_type": "code",
   "execution_count": 45,
   "id": "f706eff3",
   "metadata": {},
   "outputs": [],
   "source": [
    "def get_secret_key(password, salt):\n",
    "    return hashlib.pbkdf2_hmac(HASH_NAME, password.encode(), salt.encode(), ITERATION_COUNT, KEY_LENGTH)"
   ]
  },
  {
   "cell_type": "code",
   "execution_count": 46,
   "id": "9e2fcbbd",
   "metadata": {},
   "outputs": [],
   "source": [
    "def encrypt(password, salt, message):\n",
    "    secret = get_secret_key(password, salt)\n",
    "    message = pad(message.encode(\"utf8\"))\n",
    "    iv = get_random_bytes(IV_LENGTH)\n",
    "    cipher = AES.new(secret, AES.MODE_CBC, iv)\n",
    "    cipher_bytes = iv + cipher.encrypt(message)\n",
    "    ciphertext_hex = binascii.hexlify(cipher_bytes).decode()\n",
    "    return ciphertext_hex"
   ]
  },
  {
   "cell_type": "code",
   "execution_count": 47,
   "id": "2f7467ac",
   "metadata": {},
   "outputs": [],
   "source": [
    "def decrypt(password, salt, ciphertext_hex):\n",
    "    secret = get_secret_key(password, salt)\n",
    "    ciphertext = bytes.fromhex(ciphertext_hex)\n",
    "    iv = ciphertext[:IV_LENGTH]\n",
    "    cipher = AES.new(secret, AES.MODE_CBC, iv)\n",
    "    plaintext_bytes = unpad(cipher.decrypt(ciphertext[IV_LENGTH:]))\n",
    "    plaintext = plaintext_bytes.decode(\"utf8\")\n",
    "    return plaintext"
   ]
  },
  {
   "cell_type": "code",
   "execution_count": 48,
   "id": "0afc66aa",
   "metadata": {},
   "outputs": [],
   "source": [
    "garam = \"aqua_aria_marine\"\n",
    "password = \"ini password aquamarine\""
   ]
  },
  {
   "cell_type": "code",
   "execution_count": 49,
   "id": "00479b81",
   "metadata": {},
   "outputs": [],
   "source": [
    "filename = \"testing.txt\"\n",
    "output_filename = \"testing-ciphertext-original.txt\"\n",
    "output_filename2 = \"testing-plaintext-decoded-original.txt\""
   ]
  },
  {
   "cell_type": "markdown",
   "id": "7eda3974",
   "metadata": {},
   "source": [
    "# enkripsi (ubah jumlah iteration count)"
   ]
  },
  {
   "cell_type": "code",
   "execution_count": 50,
   "id": "1e2a0187",
   "metadata": {},
   "outputs": [],
   "source": [
    "file = open(filename,\"r\",encoding='utf8')\n",
    "message = (file.read())\n",
    "file.close() #do not forget to close"
   ]
  },
  {
   "cell_type": "code",
   "execution_count": 51,
   "id": "4fe707b7",
   "metadata": {},
   "outputs": [],
   "source": [
    "ciphertext_hex = encrypt(password, garam, message)"
   ]
  },
  {
   "cell_type": "code",
   "execution_count": 52,
   "id": "a6515c83",
   "metadata": {},
   "outputs": [],
   "source": [
    "with open(output_filename, \"w\",encoding='utf8') as file:\n",
    "    file.write(ciphertext_hex)"
   ]
  },
  {
   "cell_type": "markdown",
   "id": "2215b066",
   "metadata": {},
   "source": [
    "# dekripsi"
   ]
  },
  {
   "cell_type": "code",
   "execution_count": 56,
   "id": "28e9d793",
   "metadata": {},
   "outputs": [],
   "source": [
    "with open(output_filename, \"r\",encoding='utf8') as file:\n",
    "    ciphertext_hex = file.read().strip()"
   ]
  },
  {
   "cell_type": "code",
   "execution_count": 57,
   "id": "6d3a612f",
   "metadata": {},
   "outputs": [],
   "source": [
    "plaintext = decrypt(password, garam, ciphertext_hex)"
   ]
  },
  {
   "cell_type": "code",
   "execution_count": 58,
   "id": "9ab58d02",
   "metadata": {},
   "outputs": [],
   "source": [
    "with open(output_filename2, \"w\",encoding='utf8') as file:\n",
    "    file.write(plaintext)"
   ]
  },
  {
   "cell_type": "markdown",
   "id": "cf3ac0db",
   "metadata": {},
   "source": []
  },
  {
   "cell_type": "markdown",
   "id": "323b934e",
   "metadata": {},
   "source": []
  },
  {
   "cell_type": "code",
   "execution_count": null,
   "id": "e6b90296",
   "metadata": {},
   "outputs": [],
   "source": []
  },
  {
   "cell_type": "markdown",
   "id": "c27b0498",
   "metadata": {},
   "source": [
    "# steganografi original (gunakan ini jika message grids > 64)"
   ]
  },
  {
   "cell_type": "code",
   "execution_count": 59,
   "id": "931274fc",
   "metadata": {},
   "outputs": [],
   "source": [
    "import bpcs"
   ]
  },
  {
   "cell_type": "code",
   "execution_count": 60,
   "id": "949aff8d",
   "metadata": {},
   "outputs": [],
   "source": [
    "#threshold1 = 0.3\n",
    "#threshold2 = 0.4\n",
    "threshold3 = 0.5\n",
    "\n",
    "embedded_file = \"testing-ciphertext-original.txt\"\n",
    "cover1 = 'cover/cover-1.png'\n",
    "stegoimage1_3 = 'pengujian/stego/pan-dog/stego3.png'\n",
    "embedded_file_from_stegoimage1_3 = \"pengujian/stego/pan-dog/testing-ciphertext-original3.txt\""
   ]
  },
  {
   "cell_type": "code",
   "execution_count": 20,
   "id": "79d1f562",
   "metadata": {},
   "outputs": [
    {
     "name": "stderr",
     "output_type": "stream",
     "text": [
      "Berhasil memasukkan 1068 grid pesan asli dan 34 map konjugat\n"
     ]
    }
   ],
   "source": [
    "bpcs.encode(cover1,embedded_file,stegoimage1_3,threshold3)"
   ]
  },
  {
   "cell_type": "code",
   "execution_count": 23,
   "id": "42010e17",
   "metadata": {},
   "outputs": [
    {
     "name": "stderr",
     "output_type": "stream",
     "text": [
      "Ditemukan 1102 dari 98304 grid dengan threshold kompleksitas di atas 0.5\n",
      "Ditemukan 1068 grid pesan dan 34 map konjugat\n"
     ]
    }
   ],
   "source": [
    "bpcs.decode(stegoimage1_3,embedded_file_from_stegoimage1_3,threshold3)"
   ]
  },
  {
   "cell_type": "markdown",
   "id": "cdc5578d",
   "metadata": {},
   "source": [
    "# METADATA MP3"
   ]
  },
  {
   "cell_type": "code",
   "execution_count": 61,
   "id": "6bb7b754",
   "metadata": {},
   "outputs": [],
   "source": [
    "from mutagen.mp3 import MP3\n",
    "from mutagen.id3 import ID3, APIC"
   ]
  },
  {
   "cell_type": "code",
   "execution_count": 63,
   "id": "bb61b692",
   "metadata": {},
   "outputs": [],
   "source": [
    "def remove_all_metadata(mp3_file):\n",
    "    # Buka berkas MP3\n",
    "    audio = MP3(mp3_file)\n",
    "\n",
    "    # Hapus seluruh metadata ID3 tag\n",
    "    audio.delete()\n",
    "\n",
    "    # Simpan perubahan ke berkas MP3\n",
    "    audio.save()\n",
    "\n",
    "# Contoh pemanggilan fungsi\n",
    "mp3_file_path = \"pengujian/mp3/audio.mp3\"\n",
    "remove_all_metadata(mp3_file_path)"
   ]
  },
  {
   "cell_type": "markdown",
   "id": "d7a13903",
   "metadata": {},
   "source": [
    "APIC TYPE GUIDANCE :\n",
    "\n",
    "1 = ICON\n",
    "\n",
    "2 = ICON JUGA\n",
    "\n",
    "3 = FRONT COVER\n",
    "\n",
    "4 = BACK COVER\n",
    "\n",
    "5 = LEAFLET\n",
    "\n",
    "APIC TYPE BISA DARI 0 SAMPE 20, TAPI 1 SAMPE 5 YANG MUDAH DIBACA SISTEM DAN SOFTWARE WALAU KADANG GAK KEBACA SAMA PLAYER"
   ]
  },
  {
   "cell_type": "code",
   "execution_count": 64,
   "id": "e61a40e7",
   "metadata": {},
   "outputs": [],
   "source": [
    "def embed_cover_image(mp3_file, image_file):\n",
    "    audio = ID3(mp3_file)\n",
    "\n",
    "    # Baca gambar sebagai bytes\n",
    "    with open(image_file, \"rb\") as img_file:\n",
    "        image_data = img_file.read()\n",
    "\n",
    "    # Tambahkan gambar sebagai cover album\n",
    "    audio[\"APIC\"] = APIC(\n",
    "        encoding=3,  # Encoding untuk gambar adalah utf-8\n",
    "        mime=\"image/png\",  # Ganti sesuai tipe gambar yang digunakan (jpeg, png, dll.), APIC-1\n",
    "        type=4,  #back cover, APIC-2\n",
    "        desc=\"You don't expect this as stego image, right?\",  # Deskripsi cover album, APIC-3\n",
    "        data=image_data  # Data gambar dalam bentuk bytes\n",
    "    )\n",
    "\n",
    "    # Save perubahan MP3\n",
    "    audio.save()\n",
    "\n",
    "mp3_file_path = \"pengujian/mp3/audio.mp3\"\n",
    "image_file_path = \"pengujian/mp3/stego3.png\"\n",
    "embed_cover_image(mp3_file_path, image_file_path)"
   ]
  },
  {
   "cell_type": "code",
   "execution_count": 65,
   "id": "3abea309",
   "metadata": {},
   "outputs": [],
   "source": [
    "def embed_cover_image(mp3_file, image_file):\n",
    "    audio = ID3(mp3_file)\n",
    "\n",
    "    # Baca gambar sebagai bytes\n",
    "    with open(image_file, \"rb\") as img_file:\n",
    "        image_data = img_file.read()\n",
    "\n",
    "    #TAG editing\n",
    "    audio[\"APIC\"] = APIC(\n",
    "        encoding=3,  #UTF-8 biar pure\n",
    "        mime=\"image/png\",  # tipe, png atau jpeg\n",
    "        type=2,  #icon\n",
    "        desc=\"This is not stego image... perhaps\",  # Deskripsi\n",
    "        data=image_data\n",
    "    )\n",
    "\n",
    "    # Save perubahan MP3\n",
    "    audio.save()\n",
    "\n",
    "mp3_file_path = \"pengujian/mp3/audio.mp3\"\n",
    "image_file_path = \"pengujian/mp3/stego3-decoy message.png\"\n",
    "embed_cover_image(mp3_file_path, image_file_path)"
   ]
  },
  {
   "cell_type": "code",
   "execution_count": 66,
   "id": "d133a70b",
   "metadata": {},
   "outputs": [],
   "source": [
    "def extract_specific(mp3_file, output_path):\n",
    "    audio = ID3(mp3_file_path)\n",
    "    apic_frames = audio.getall(\"APIC\") #get semua APIC yang tersemat\n",
    "    for apic_frame in apic_frames:\n",
    "        if apic_frame.type == 4: #ganti type disini\n",
    "            with open(output_path, \"wb\") as output_file:\n",
    "                output_file.write(apic_frame.data)\n",
    "\n",
    "mp3_file_path = \"pengujian/mp3/audio.mp3\"\n",
    "output_image_file_path = \"pengujian/mp3/realstego3.png\"\n",
    "\n",
    "extract_specific(mp3_file_path,output_image_file_path)"
   ]
  },
  {
   "cell_type": "code",
   "execution_count": 67,
   "id": "4157b69d",
   "metadata": {},
   "outputs": [],
   "source": [
    "message_extracted_from_mp3 = \"pengujian/mp3/testing-ciphertext-original.txt\""
   ]
  },
  {
   "cell_type": "markdown",
   "id": "251f31bf",
   "metadata": {},
   "source": [
    "# ekstraksi pesan dari citra, dekripsi"
   ]
  },
  {
   "cell_type": "code",
   "execution_count": 68,
   "id": "6c346c2b",
   "metadata": {},
   "outputs": [
    {
     "name": "stderr",
     "output_type": "stream",
     "text": [
      "Ditemukan 1102 dari 98304 grid dengan threshold kompleksitas di atas 0.5\n",
      "Ditemukan 1068 grid pesan dan 34 map konjugat\n"
     ]
    }
   ],
   "source": [
    "bpcs.decode(output_image_file_path,message_extracted_from_mp3,threshold3)"
   ]
  },
  {
   "cell_type": "code",
   "execution_count": 69,
   "id": "21b5d2f5",
   "metadata": {},
   "outputs": [],
   "source": [
    "import re\n",
    "\n",
    "with open(message_extracted_from_mp3, \"r\") as file:\n",
    "    cipher = file.read()\n",
    "    ciphertext_hex_cleaned = re.sub(r'[^0-9a-fA-F]', '', cipher)"
   ]
  },
  {
   "cell_type": "code",
   "execution_count": 70,
   "id": "196b067a",
   "metadata": {},
   "outputs": [],
   "source": [
    "plaintext_mp3 = decrypt(password, garam, ciphertext_hex_cleaned)"
   ]
  },
  {
   "cell_type": "code",
   "execution_count": 71,
   "id": "fc258e7e",
   "metadata": {},
   "outputs": [],
   "source": [
    "with open (\"pengujian/mp3/plaintext_from_mp3.txt\", \"w\") as file :\n",
    "    file.write(plaintext_mp3)"
   ]
  },
  {
   "cell_type": "code",
   "execution_count": null,
   "id": "17256ddc",
   "metadata": {},
   "outputs": [],
   "source": []
  }
 ],
 "metadata": {
  "kernelspec": {
   "display_name": "Python 3 (ipykernel)",
   "language": "python",
   "name": "python3"
  },
  "language_info": {
   "codemirror_mode": {
    "name": "ipython",
    "version": 3
   },
   "file_extension": ".py",
   "mimetype": "text/x-python",
   "name": "python",
   "nbconvert_exporter": "python",
   "pygments_lexer": "ipython3",
   "version": "3.9.13"
  }
 },
 "nbformat": 4,
 "nbformat_minor": 5
}
